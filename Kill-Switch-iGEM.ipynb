{
 "cells": [
  {
   "cell_type": "markdown",
   "metadata": {},
   "source": [
    "# Kill Switch"
   ]
  },
  {
   "cell_type": "markdown",
   "metadata": {},
   "source": [
    "\\begin{equation*}\n",
    "MET25: \\left\\{\n",
    "    \\begin{array}{rlc}\n",
    "        \\frac{dM_1}{dt} & = & \\frac{c_1}{1 + P_1/h_1} - d_1 M_1 \\\\\n",
    "        \\frac{dP_1}{dt} & = & l_1M_1 - \\sigma_1 P_1\n",
    "    \\end{array}\n",
    "    \\right.\n",
    "\\end{equation*}\n",
    "\n",
    "\\begin{equation*}\n",
    "    ADH2-TDH3: \\left\\{\n",
    "    \\begin{array}{rlc}\n",
    "        \\frac{dM_2}{dt} & = & \\frac{c_2}{1 + P_2/h_2} - d_2 M_2 \\\\\n",
    "        \\frac{dP_2}{dt} & = & l_2M_2 - \\sigma_2 P_2\n",
    "    \\end{array}\n",
    "    \\right.\n",
    "\\end{equation*}\n",
    "\n",
    "\\begin{equation*}\n",
    "HXT6: \\left\\{\n",
    "    \\begin{array}{rlc}\n",
    "        \\frac{dM_3}{dt} & = & \\frac{c_3}{1 + P_3/h_3} - d_3 M_3 \\\\\n",
    "        \\frac{dP_3}{dt} & = & l_3M_3 - \\sigma_3 P_3\n",
    "    \\end{array}\n",
    "    \\right.\n",
    "\\end{equation*}"
   ]
  },
  {
   "cell_type": "markdown",
   "metadata": {},
   "source": [
    "\\begin{equation*}\n",
    "    \\frac{dN}{dt} = - (\\alpha_1 P_1 + \\alpha_2 P_2 + \\alpha_2 P_3)N\n",
    "\\end{equation*}"
   ]
  },
  {
   "cell_type": "markdown",
   "metadata": {},
   "source": [
    "\\begin{equation*}\n",
    "    \\begin{array}{rlc}\n",
    "        \\frac{dM_1}{dt} & = & \\left[\\frac{c_1}{1 + P_1/h_1} - d_1 M_1\\right]N \\\\\n",
    "        \\frac{dP_1}{dt} & = & \\left[l_1M_1 - \\sigma_1 P_1\\right]N\n",
    "    \\end{array}\n",
    "\\end{equation*}\n",
    "\n",
    "\\begin{equation*}\n",
    "    \\begin{array}{rlc}\n",
    "        \\frac{dM_2}{dt} & = & \\left[\\frac{c_2}{1 + P_2/h_2} - d_2 M_2 \\right]N\\\\\n",
    "        \\frac{dP_2}{dt} & = & \\left[l_2M_2 - \\sigma_2 P_2\\right]N\n",
    "    \\end{array}\n",
    "\\end{equation*}\n",
    "\n",
    "\\begin{equation*}\n",
    "    \\begin{array}{rlc}\n",
    "        \\frac{dM_3}{dt} & = & \\left[\\frac{c_3}{1 + P_3/h_3} - d_3 M_3\\right]N \\\\\n",
    "        \\frac{dP_3}{dt} & = & \\left[l_3M_3 - \\sigma_3 P_3\\right]N\n",
    "    \\end{array}\n",
    "\\end{equation*}"
   ]
  },
  {
   "cell_type": "markdown",
   "metadata": {},
   "source": [
    "### lib"
   ]
  },
  {
   "cell_type": "code",
   "execution_count": 1,
   "metadata": {},
   "outputs": [],
   "source": [
    "from ipywidgets import interactive\n",
    "import matplotlib.pyplot as plt\n",
    "from mpl_toolkits.mplot3d import Axes3D\n",
    "import matplotlib as mpl\n",
    "import numpy as np"
   ]
  },
  {
   "cell_type": "markdown",
   "metadata": {},
   "source": [
    "### Setting chart size"
   ]
  },
  {
   "cell_type": "code",
   "execution_count": 2,
   "metadata": {},
   "outputs": [],
   "source": [
    "plt.rcParams['figure.figsize'] = [15, 5]"
   ]
  },
  {
   "cell_type": "markdown",
   "metadata": {},
   "source": [
    "### code"
   ]
  },
  {
   "cell_type": "code",
   "execution_count": 3,
   "metadata": {
    "scrolled": false
   },
   "outputs": [
    {
     "data": {
      "application/vnd.jupyter.widget-view+json": {
       "model_id": "adbb6ebe1a4642d1bf086b9341205908",
       "version_major": 2,
       "version_minor": 0
      },
      "text/plain": [
       "interactive(children=(FloatSlider(value=1.0, description='c1', max=2.0, step=0.01), FloatSlider(value=1.0, des…"
      ]
     },
     "metadata": {},
     "output_type": "display_data"
    }
   ],
   "source": [
    "def f(c1, c2, c3, h1, h2, h3, d1, d2, d3, N0,\n",
    "      α1, α2, α3, σ1, σ2, σ3, l1, l2, l3, time):\n",
    "    \n",
    "    M1, M2, M3, P1, P2, P3, N = [0], [0], [0], [0], [0], [0], [N0]\n",
    "    \n",
    "    #Definindo o tempo e o passo\n",
    "    t, dt = time, 0.001\n",
    "\n",
    "    #Criando a lista para o tempo\n",
    "    tempo = [0]\n",
    "\n",
    "    for i in range(time*1000):\n",
    "        tempo.append(tempo[-1] + dt)\n",
    "        N.append((-1 * (α1 * P1[-1] + α2 * P2[-1] + α3 * P3[-1]) * N[-1]) * dt + N[-1])\n",
    "        M1.append(((c1/(1 + P1[-1]/h1)) - (d1 * M1[-1]))*N[-1]*dt + M1[-1])\n",
    "        M2.append(((c2/(1 + P2[-1]/h2)) - (d2 * M2[-1]))*N[-1]*dt + M2[-1])\n",
    "        M3.append(((c3/(1 + P3[-1]/h3)) - (d3 * M3[-1]))*N[-1]*dt + M3[-1])\n",
    "        P1.append((l1 * M1[-1] - σ1 * P1[-1])*N[-1]*dt + P1[-1])\n",
    "        P2.append((l2 * M2[-1] - σ2 * P2[-1])*N[-1]*dt + P2[-1])\n",
    "        P3.append((l3 * M3[-1] - σ3 * P3[-1])*N[-1]*dt + P3[-1])\n",
    "    \n",
    "    #plt.plot(tempo, M1, label = \"M1\")\n",
    "    #plt.plot(tempo, M2, label = \"M2\")\n",
    "    #plt.plot(tempo, M3, label = \"M3\")\n",
    "    plt.plot(tempo, P1, label = \"P1\")\n",
    "    plt.plot(tempo, P2, label = \"P2\")\n",
    "    plt.plot(tempo, P3, label = \"P3\")\n",
    "    plt.plot(tempo, N, label = 'Population')\n",
    "    plt.ylabel('Quantity', fontsize = 12)\n",
    "    plt.xlabel('Time', fontsize = 12)\n",
    "    plt.legend(bbox_to_anchor=(1.05, 1), loc=2, borderaxespad=0.)\n",
    "    plt.show()\n",
    "\n",
    "\n",
    "\n",
    "interactive_plot = interactive(f, c1=(0.000, 2.000, 0.01), c2=(0., 2., 0.01), c3=(0., 2., 0.01), \n",
    "                               h1 = (0., 10., 1), h2 = (0., 10., 1), h3 = (0., 10., 1), \n",
    "                               N0 = (0, 40, 1), σ1 = (0., 2., 0.01), σ2 = (0., 2., 0.01), σ3 = (0., 2., 0.01), \n",
    "                               α1 = (0., 1., 0.1), α2 = (0., 1., 0.1), α3 = (0., 1., 0.1), \n",
    "                               d1 = (0., 1., 0.1), d2 = (0., 1., 0.1), d3 = (0., 1., 0.1), \n",
    "                               time = (0, 100, 5), l1 = (0., 10., 0.1), l2 = (0., 10., 0.1), l3 = (0., 10., 0.1))\n",
    "output = interactive_plot.children[-1]\n",
    "output.layout.height = '350px'\n",
    "interactive_plot"
   ]
  },
  {
   "cell_type": "code",
   "execution_count": null,
   "metadata": {},
   "outputs": [],
   "source": []
  }
 ],
 "metadata": {
  "kernelspec": {
   "display_name": "Python 3",
   "language": "python",
   "name": "python3"
  },
  "language_info": {
   "codemirror_mode": {
    "name": "ipython",
    "version": 3
   },
   "file_extension": ".py",
   "mimetype": "text/x-python",
   "name": "python",
   "nbconvert_exporter": "python",
   "pygments_lexer": "ipython3",
   "version": "3.5.6"
  }
 },
 "nbformat": 4,
 "nbformat_minor": 2
}
