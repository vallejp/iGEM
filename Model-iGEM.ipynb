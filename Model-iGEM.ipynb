{
 "cells": [
  {
   "cell_type": "markdown",
   "metadata": {},
   "source": [
    "# Modelagem 2.0"
   ]
  },
  {
   "cell_type": "markdown",
   "metadata": {},
   "source": [
    "### lib"
   ]
  },
  {
   "cell_type": "code",
   "execution_count": 1,
   "metadata": {},
   "outputs": [],
   "source": [
    "from ipywidgets import interactive\n",
    "import matplotlib.pyplot as plt\n",
    "from mpl_toolkits.mplot3d import Axes3D\n",
    "import matplotlib as mpl\n",
    "import numpy as np"
   ]
  },
  {
   "cell_type": "markdown",
   "metadata": {},
   "source": [
    "Graph size:"
   ]
  },
  {
   "cell_type": "code",
   "execution_count": 2,
   "metadata": {},
   "outputs": [],
   "source": [
    "plt.rcParams['figure.figsize'] = [15, 5]"
   ]
  },
  {
   "cell_type": "markdown",
   "metadata": {},
   "source": [
    "### Code"
   ]
  },
  {
   "cell_type": "markdown",
   "metadata": {},
   "source": [
    "### Free and on surface concentration"
   ]
  },
  {
   "cell_type": "code",
   "execution_count": 5,
   "metadata": {},
   "outputs": [
    {
     "data": {
      "application/vnd.jupyter.widget-view+json": {
       "model_id": "8a99b968b9314923bbde054b8fb41ce4",
       "version_major": 2,
       "version_minor": 0
      },
      "text/plain": [
       "interactive(children=(FloatSlider(value=2.0, description='k0', max=4.0, step=0.01), FloatSlider(value=1.0, des…"
      ]
     },
     "metadata": {},
     "output_type": "display_data"
    }
   ],
   "source": [
    "def f(k0, k1, k2, β1, β2, melan0, nl, time):\n",
    "    \n",
    "    #Definindo as condições iniciais\n",
    "    aga10, aga1, aga2, a1a2, melan, a1a2melan, surf = [0], [0], [0], [0], [melan0], [0], [nl]\n",
    "    \n",
    "    #Definindo o tempo e o passo\n",
    "    t, dt = time, 0.001\n",
    "    \n",
    "    #Criando a lista para o tempo\n",
    "    tempo = [0]\n",
    "    \n",
    "    for i in range(time*1000):\n",
    "        tempo.append(tempo[-1] + dt)\n",
    "        surf.append((-k0 * aga10[-1] * surf[-1])*dt + surf[-1])\n",
    "        aga10.append((-k0 * aga10[-1] * surf[-1] + β1)*dt + aga10[-1])\n",
    "        aga1.append((-k1 * aga1[-1] * aga2[-1] + k0 * aga10[-1] * surf[-1])*dt + aga1[-1])\n",
    "        aga2.append((-k1 * aga1[-1] * aga2[-1] + β2)*dt + aga2[-1])\n",
    "        a1a2.append((k1 * aga1[-1] * aga2[-1] - k2 * melan[-1] * a1a2[-1])*dt + a1a2[-1])\n",
    "        melan.append((-k2 * melan[-1] * a1a2[-1])*dt + melan[-1])\n",
    "        a1a2melan.append((k2 * melan[-1] * a1a2[-1])*dt + a1a2melan[-1])\n",
    "    \n",
    "    plt.plot(tempo, aga1, label = \"Aga1 on the surface\")\n",
    "    plt.plot(tempo, aga10, label = \"Free Aga1\")\n",
    "    plt.plot(tempo, aga2, label = \"Aga2/4D\")\n",
    "    plt.plot(tempo, melan, label = \"Melanin\", color = 'k')\n",
    "    plt.plot(tempo, a1a2, label = \"Aga1 + Aga2/4D\")\n",
    "    plt.plot(tempo, a1a2melan, label = 'Melanin + Aga1 + Aga2/4D')\n",
    "    plt.ylabel('Quantity', fontsize = 12)\n",
    "    plt.xlabel('Time', fontsize = 12)\n",
    "    plt.legend(bbox_to_anchor=(1.05, 1), loc=2, borderaxespad=0.)\n",
    "    plt.show()\n",
    "\n",
    "\n",
    "\n",
    "interactive_plot = interactive(f, k1=(0.000, 2.000, 0.01), k2=(0., 4., 0.01), β1 = (0., 4., 0.01), k0 = (0., 4., 0.01),\n",
    "                               β2 = (0., 4., 0.01), nl = (0., 30., 1.), time = (0, 100, 5), melan0 = (0., 100., 0.01))\n",
    "output = interactive_plot.children[-1]\n",
    "output.layout.height = '350px'\n",
    "interactive_plot"
   ]
  },
  {
   "cell_type": "markdown",
   "metadata": {},
   "source": [
    "### Considering the population (constant)"
   ]
  },
  {
   "cell_type": "code",
   "execution_count": 6,
   "metadata": {
    "scrolled": false
   },
   "outputs": [
    {
     "data": {
      "application/vnd.jupyter.widget-view+json": {
       "model_id": "e616d0e888ec486b9bab8d07803a673e",
       "version_major": 2,
       "version_minor": 0
      },
      "text/plain": [
       "interactive(children=(FloatSlider(value=2.0, description='k0', max=4.0, step=0.01), FloatSlider(value=1.0, des…"
      ]
     },
     "metadata": {},
     "output_type": "display_data"
    }
   ],
   "source": [
    "def f(k0, k1, k2, β1, β2, melan0, nl, time, N0):\n",
    "    \n",
    "    # Initial conditions\n",
    "    aga10, aga1, aga2, a1a2, melan, a1a2melan, surf, N = [0], [0], [0], [0], [melan0], [0], [N0 * nl], [N0]\n",
    "    \n",
    "    # Setting the time and step\n",
    "    t, dt = time, 0.001\n",
    "    \n",
    "    # Creating the list for time\n",
    "    tempo = [0]\n",
    "    \n",
    "    for i in range(time*1000):\n",
    "        tempo.append(tempo[-1] + dt)\n",
    "        surf.append((-k0 * aga10[-1] * surf[-1])*dt + surf[-1])\n",
    "        aga10.append((-k0 * aga10[-1] * surf[-1] + N[-1] * β1)*dt + aga10[-1])\n",
    "        aga1.append((-k1 * aga1[-1] * aga2[-1] + k0 * aga10[-1] * surf[-1])*dt + aga1[-1])\n",
    "        aga2.append((-k1 * aga1[-1] * aga2[-1] + N[-1] * β2)*dt + aga2[-1])\n",
    "        a1a2.append((k1 * aga1[-1] * aga2[-1] - k2 * melan[-1] * a1a2[-1])*dt + a1a2[-1])\n",
    "        melan.append((-k2 * melan[-1] * a1a2[-1])*dt + melan[-1])\n",
    "        a1a2melan.append((k2 * melan[-1] * a1a2[-1])*dt + a1a2melan[-1])\n",
    "        N.append(N[-1])\n",
    "    \n",
    "    plt.plot(tempo, aga1, label = \"Aga1 on the surface\")\n",
    "    plt.plot(tempo, aga10, label = \"Free Aga1\")\n",
    "    plt.plot(tempo, aga2, label = \"Aga2/4D\")\n",
    "    plt.plot(tempo, melan, label = \"Melanin\", color = 'k')\n",
    "    plt.plot(tempo, a1a2, label = \"Aga1 + Aga2/4D\")\n",
    "    plt.plot(tempo, a1a2melan, label = 'Melanin + Aga1 + Aga2/4D')\n",
    "    plt.plot(tempo, a1a2melan, label = 'Melanina + Aga1 + Aga2/4D')\n",
    "    plt.plot(tempo, N, label = 'Population', color = 'red')\n",
    "    plt.ylabel('Quantity', fontsize = 12)\n",
    "    plt.xlabel('Time', fontsize = 12)\n",
    "    plt.legend(bbox_to_anchor=(1.05, 1), loc=2, borderaxespad=0.)\n",
    "    plt.show()\n",
    "\n",
    "\n",
    "\n",
    "interactive_plot = interactive(f, k1=(0.000, 2.000, 0.01), k2=(0., 4., 0.01), β1 = (0., 4., 0.01), k0 = (0., 4., 0.01),\n",
    "                               β2 = (0., 4., 0.01), nl = (0., 30., 1.), time = (0, 100, 5), melan0 = (0., 400., 0.01), N0 =(0, 50, 1))\n",
    "output = interactive_plot.children[-1]\n",
    "output.layout.height = '350px'\n",
    "interactive_plot"
   ]
  },
  {
   "cell_type": "markdown",
   "metadata": {},
   "source": [
    "### Considering population dynamics"
   ]
  },
  {
   "cell_type": "code",
   "execution_count": 7,
   "metadata": {},
   "outputs": [
    {
     "data": {
      "application/vnd.jupyter.widget-view+json": {
       "model_id": "57cb7c7a4808483b918451a64f05ab77",
       "version_major": 2,
       "version_minor": 0
      },
      "text/plain": [
       "interactive(children=(FloatSlider(value=2.0, description='k0', max=4.0, step=0.01), FloatSlider(value=1.0, des…"
      ]
     },
     "metadata": {},
     "output_type": "display_data"
    }
   ],
   "source": [
    "def f(k0, k1, k2, β1, β2, melan0, nl, time, N0, r, k):\n",
    "    \n",
    "    # Initial conditions\n",
    "    aga10, aga1, aga2, a1a2, melan, a1a2melan, surf, N = [0], [0], [0], [0], [melan0], [0], [N0 * nl], [N0]\n",
    "    \n",
    "    # Setting the time and step\n",
    "    t, dt = time, 0.001\n",
    "    \n",
    "    # Creating the list for time\n",
    "    tempo = [0]\n",
    "    \n",
    "    for i in range(time*1000):\n",
    "        tempo.append(tempo[-1] + dt)\n",
    "        surf.append((-k0 * aga10[-1] * surf[-1])*dt + surf[-1])\n",
    "        aga10.append((-k0 * aga10[-1] * surf[-1] + N[-1] * β1)*dt + aga10[-1])\n",
    "        aga1.append((-k1 * aga1[-1] * aga2[-1] + k0 * aga10[-1] * surf[-1])*dt + aga1[-1])\n",
    "        aga2.append((-k1 * aga1[-1] * aga2[-1] + N[-1] * β2)*dt + aga2[-1])\n",
    "        a1a2.append((k1 * aga1[-1] * aga2[-1] - k2 * melan[-1] * a1a2[-1])*dt + a1a2[-1])\n",
    "        melan.append((-k2 * melan[-1] * a1a2[-1]) * dt + melan[-1])\n",
    "        a1a2melan.append((k2 * melan[-1] * a1a2[-1])*dt + a1a2melan[-1])\n",
    "        N.append((r * N[-1] * (1 - (N[-1]/k))) * dt + N[-1])\n",
    "    \n",
    "    plt.plot(tempo, aga1, label = \"Aga1 on the surface\")\n",
    "    plt.plot(tempo, aga10, label = \"Free Aga1\")\n",
    "    plt.plot(tempo, aga2, label = \"Aga2/4D\")\n",
    "    plt.plot(tempo, melan, label = \"Melanin\", color = 'k')\n",
    "    plt.plot(tempo, a1a2, label = \"Aga1 + Aga2/4D\")\n",
    "    plt.plot(tempo, a1a2melan, label = 'Melanin + Aga1 + Aga2/4D')\n",
    "    plt.plot(tempo, a1a2melan, label = 'Melanina + Aga1 + Aga2/4D')\n",
    "    plt.plot(tempo, N, label = 'Population', color = 'red')\n",
    "    plt.ylabel('Quantity', fontsize = 12)\n",
    "    plt.xlabel('Time', fontsize = 12)\n",
    "    plt.legend(bbox_to_anchor=(1.05, 1), loc=2, borderaxespad=0.)\n",
    "    plt.show()\n",
    "\n",
    "\n",
    "\n",
    "interactive_plot = interactive(f, k1=(0.000, 2.000, 0.01), k2=(0., 4., 0.01), β1 = (0., 4., 0.01), k0 = (0., 4., 0.01),\n",
    "                               β2 = (0., 4., 0.01), nl = (0., 30., 1.), time = (0, 100, 5), melan0 = (0., 400., 0.01),\n",
    "                               N0 =(0, 50, 1), k = (0., 400., 0.1), r = (0., 20., 0.1))\n",
    "output = interactive_plot.children[-1]\n",
    "output.layout.height = '350px'\n",
    "interactive_plot"
   ]
  },
  {
   "cell_type": "code",
   "execution_count": null,
   "metadata": {},
   "outputs": [],
   "source": []
  }
 ],
 "metadata": {
  "kernelspec": {
   "display_name": "Python 3",
   "language": "python",
   "name": "python3"
  },
  "language_info": {
   "codemirror_mode": {
    "name": "ipython",
    "version": 3
   },
   "file_extension": ".py",
   "mimetype": "text/x-python",
   "name": "python",
   "nbconvert_exporter": "python",
   "pygments_lexer": "ipython3",
   "version": "3.5.6"
  }
 },
 "nbformat": 4,
 "nbformat_minor": 2
}
